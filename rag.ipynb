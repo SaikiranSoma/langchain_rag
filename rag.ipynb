{
 "cells": [
  {
   "cell_type": "markdown",
   "metadata": {},
   "source": [
    "# Ramayana RAG System 🏹\n",
    "\n",
    "This notebook implements a **Retrieval-Augmented Generation (RAG)** system using the ancient Indian epic **Ramayana** as the knowledge base.\n",
    "\n",
    "## How to Use:\n",
    "1. Run all cells in order (Ctrl+Shift+Enter for each cell)\n",
    "2. Once setup is complete, use: `ask_ramayana_question(\"your question here\")`\n",
    "3. Test with sample questions about Rama, Sita, Hanuman, and other characters\n",
    "\n",
    "## Features:\n",
    "- 🔍 Semantic search through the Ramayana text\n",
    "- 🤖 AI-powered responses using Azure OpenAI\n",
    "- 📚 Comprehensive coverage of the epic\n",
    "- ⚡ Fast vector-based retrieval\n",
    "\n",
    "---"
   ]
  },
  {
   "cell_type": "code",
   "execution_count": 6,
   "metadata": {},
   "outputs": [
    {
     "data": {
      "text/plain": [
       "True"
      ]
     },
     "execution_count": 6,
     "metadata": {},
     "output_type": "execute_result"
    }
   ],
   "source": [
    "import os\n",
    "from dotenv import load_dotenv\n",
    "from langchain_community.vectorstores import FAISS\n",
    "from langchain_core.messages import HumanMessage, SystemMessage\n",
    "from langchain_openai import AzureChatOpenAI, AzureOpenAIEmbeddings\n",
    "from langchain.text_splitter import RecursiveCharacterTextSplitter, CharacterTextSplitter, SentenceTransformersTokenTextSplitter \n",
    "from langchain_community.document_loaders import TextLoader\n",
    "import json\n",
    "import numpy as np\n",
    "\n",
    "# Load environment variables\n",
    "load_dotenv()"
   ]
  },
  {
   "cell_type": "code",
   "execution_count": 7,
   "metadata": {},
   "outputs": [
    {
     "name": "stdout",
     "output_type": "stream",
     "text": [
      "Initializing Azure OpenAI models...\n",
      "✓ Found working embedding deployment: 'text-embedding-3-large'\n",
      "✓ Azure OpenAI models initialized successfully!\n"
     ]
    }
   ],
   "source": [
    "# Initialize Azure OpenAI models with error handling\n",
    "print(\"Initializing Azure OpenAI models...\")\n",
    "\n",
    "# Try to find working embedding deployment\n",
    "embedding_deployments_to_try = [\"text-embedding-3-large\", \"text-embedding-ada-002\", \"text-embedding-3-small\"]\n",
    "\n",
    "embedding_model = None\n",
    "for deployment_name in embedding_deployments_to_try:\n",
    "    try:\n",
    "        test_embedding_model = AzureOpenAIEmbeddings(\n",
    "            azure_deployment=deployment_name,\n",
    "            azure_endpoint=os.getenv(\"AZURE_OPENAI_ENDPOINT\"),\n",
    "            api_key=os.getenv(\"AZURE_OPENAI_API_KEY\"),\n",
    "            api_version=os.getenv(\"AZURE_OPENAI_VERSION\")\n",
    "        )\n",
    "        # Test if the deployment works\n",
    "        test_embed = test_embedding_model.embed_query(\"test\")\n",
    "        print(f\"✓ Found working embedding deployment: '{deployment_name}'\")\n",
    "        embedding_model = test_embedding_model\n",
    "        break\n",
    "    except Exception as e:\n",
    "        print(f\"✗ '{deployment_name}' failed: {e}\")\n",
    "        continue\n",
    "\n",
    "if embedding_model is None:\n",
    "    raise Exception(\"No working embedding deployment found. Please check your Azure OpenAI configuration.\")\n",
    "\n",
    "# Initialize chat model  \n",
    "chat_model = AzureChatOpenAI(\n",
    "    azure_deployment=\"gpt-4o\",\n",
    "    azure_endpoint=os.getenv(\"AZURE_OPENAI_ENDPOINT\"),\n",
    "    api_key=os.getenv(\"AZURE_OPENAI_API_KEY\"),\n",
    "    api_version=os.getenv(\"AZURE_OPENAI_VERSION\")\n",
    ")\n",
    "\n",
    "print(\"✓ Azure OpenAI models initialized successfully!\")"
   ]
  },
  {
   "cell_type": "code",
   "execution_count": 8,
   "metadata": {},
   "outputs": [
    {
     "name": "stdout",
     "output_type": "stream",
     "text": [
      "✓ Found Ramayana text file: c:\\Users\\285104\\Downloads\\Langchain-RAG\\Langchain-RAG\\input\\ramayana.txt\n",
      "Loading Ramayana text...\n",
      "✓ Document loaded and split into 37 chunks\n",
      "Sample chunk: The Ramayana - Epic of Sri Rama\n",
      "===============================\n",
      "\n",
      "This is a comprehensive collection of the Ramayana, one of the greatest epics of ancient India, composed by the sage Valmiki. The Ramay...\n"
     ]
    }
   ],
   "source": [
    "# Set up file paths\n",
    "current_dir = os.getcwd()\n",
    "file_path = os.path.join(current_dir, \"input\", \"ramayana.txt\")\n",
    "db_dir = os.path.join(current_dir, \"ramayana_db\")\n",
    "\n",
    "# Check if the Ramayana text file exists\n",
    "if not os.path.exists(file_path):\n",
    "    raise FileNotFoundError(f\"The file {file_path} does not exist. Please make sure you have the ramayana.txt file in the input folder.\")\n",
    "\n",
    "print(f\"✓ Found Ramayana text file: {file_path}\")\n",
    "\n",
    "# Load and process the document\n",
    "print(\"Loading Ramayana text...\")\n",
    "loader = TextLoader(file_path, encoding=\"utf-8\")\n",
    "documents = loader.load()\n",
    "\n",
    "# Split the document into chunks\n",
    "text_splitter = RecursiveCharacterTextSplitter(\n",
    "    chunk_size=1000, \n",
    "    chunk_overlap=200  # Some overlap to maintain context\n",
    ")\n",
    "\n",
    "docs = text_splitter.split_documents(documents)\n",
    "\n",
    "print(f\"✓ Document loaded and split into {len(docs)} chunks\")\n",
    "print(f\"Sample chunk: {docs[0].page_content[:200]}...\")"
   ]
  },
  {
   "cell_type": "code",
   "execution_count": 12,
   "metadata": {},
   "outputs": [
    {
     "name": "stdout",
     "output_type": "stream",
     "text": [
      "Setting up vector store...\n",
      "Creating new vector store...\n",
      "✓ Vector store created and saved to c:\\Users\\285104\\Downloads\\Langchain-RAG\\Langchain-RAG\\ramayana_db\\ramayana_faiss_db\n",
      "✓ Retriever configured successfully\n"
     ]
    }
   ],
   "source": [
    "# Create or load vector store\n",
    "print(\"Setting up vector store...\")\n",
    "\n",
    "persistent_directory = os.path.join(db_dir, \"ramayana_faiss_db\")\n",
    "\n",
    "if not os.path.exists(persistent_directory):\n",
    "    print(\"Creating new vector store...\")\n",
    "    os.makedirs(db_dir, exist_ok=True)\n",
    "    \n",
    "    # Create FAISS vector store with embeddings\n",
    "    vector_store = FAISS.from_documents(docs, embedding_model)\n",
    "    \n",
    "    # Save the vector store\n",
    "    vector_store.save_local(persistent_directory)\n",
    "    print(f\"✓ Vector store created and saved to {persistent_directory}\")\n",
    "else:\n",
    "    print(\"Loading existing vector store...\")\n",
    "    vector_store = FAISS.load_local(\n",
    "        persistent_directory, \n",
    "        embedding_model, \n",
    "        allow_dangerous_deserialization=True\n",
    "    )\n",
    "    print(\"✓ Vector store loaded successfully\")\n",
    "\n",
    "# Create retriever\n",
    "retriever = vector_store.as_retriever(\n",
    "    search_type=\"similarity\",\n",
    "    search_kwargs={\"k\": 3}  # Return top 3 most relevant chunks\n",
    ")\n",
    "\n",
    "print(\"✓ Retriever configured successfully\")"
   ]
  },
  {
   "cell_type": "code",
   "execution_count": 13,
   "metadata": {},
   "outputs": [
    {
     "name": "stdout",
     "output_type": "stream",
     "text": [
      "Testing retrieval with query: 'Who is Hanuman and what are his powers?'\n",
      "✓ Retrieved 3 relevant documents\n",
      "\n",
      "Document 1 excerpt:\n",
      "Hanuman's Display of Power\n",
      "-------------------------\n",
      "\n",
      "Before leaving Lanka, Hanuman decided to gauge the strength of Ravana's army and give them a demonstration of the power they would face when Rama arrived. He began destroying the Ashoka grove, uprooting trees and demolishing buildings.\n",
      "\n",
      "When the ...\n",
      "\n",
      "Document 2 excerpt:\n",
      "During his flight, he encountered various obstacles placed by the gods to test his determination. A mountain peak rose from the ocean to give him rest, a sea monster tried to swallow him, and a rakshasi attempted to capture him, but Hanuman overcame all these challenges through his wit and strength....\n"
     ]
    }
   ],
   "source": [
    "# Test retrieval functionality\n",
    "test_query = \"Who is Hanuman and what are his powers?\"\n",
    "print(f\"Testing retrieval with query: '{test_query}'\")\n",
    "\n",
    "relevant_docs = retriever.invoke(test_query)\n",
    "print(f\"✓ Retrieved {len(relevant_docs)} relevant documents\")\n",
    "\n",
    "for i, doc in enumerate(relevant_docs[:2]):  # Show first 2 results\n",
    "    print(f\"\\nDocument {i+1} excerpt:\")\n",
    "    print(doc.page_content[:300] + \"...\")"
   ]
  },
  {
   "cell_type": "code",
   "execution_count": 14,
   "metadata": {},
   "outputs": [
    {
     "name": "stdout",
     "output_type": "stream",
     "text": [
      "✓ RAG question-answering function ready!\n"
     ]
    }
   ],
   "source": [
    "def ask_ramayana_question(question):\n",
    "    \"\"\"\n",
    "    Ask a question about the Ramayana and get an AI-powered answer\n",
    "    \n",
    "    Args:\n",
    "        question (str): Your question about the Ramayana\n",
    "        \n",
    "    Returns:\n",
    "        str: AI-generated answer based on relevant text chunks\n",
    "    \"\"\"\n",
    "    try:\n",
    "        # Retrieve relevant documents\n",
    "        relevant_docs = retriever.invoke(question)\n",
    "        \n",
    "        # Prepare context from retrieved documents\n",
    "        context = \"\\n\\n\".join([doc.page_content for doc in relevant_docs])\n",
    "        \n",
    "        # Create the prompt\n",
    "        prompt = f\"\"\"Based on the following excerpts from the Ramayana epic, please answer the question.\n",
    "\n",
    "Question: {question}\n",
    "\n",
    "Relevant Content from Ramayana:\n",
    "{context}\n",
    "\n",
    "Please provide a detailed and accurate answer based only on the provided content. If the answer cannot be found in the content, say \"I don't have enough information to answer this question based on the provided content.\"\n",
    "\"\"\"\n",
    "        \n",
    "        # Get response from chat model\n",
    "        messages = [\n",
    "            SystemMessage(content=\"You are a knowledgeable assistant specializing in the Ramayana epic. Provide accurate and detailed answers based on the given content.\"),\n",
    "            HumanMessage(content=prompt)\n",
    "        ]\n",
    "        \n",
    "        response = chat_model.invoke(messages)\n",
    "        return response.content\n",
    "        \n",
    "    except Exception as e:\n",
    "        return f\"Error occurred: {str(e)}\"\n",
    "\n",
    "print(\"✓ RAG question-answering function ready!\")"
   ]
  },
  {
   "cell_type": "code",
   "execution_count": 21,
   "metadata": {},
   "outputs": [
    {
     "name": "stdout",
     "output_type": "stream",
     "text": [
      "🧪 Testing Ramayana RAG System\n",
      "==================================================\n",
      "\n",
      "📝 Question 1: Who is Hanuman and what are his special powers?\n",
      "--------------------------------------------------\n",
      "💬 Answer: Based on the provided content, Hanuman is depicted as a powerful and capable figure. He displays immense strength by demolishing an Ashoka grove, uprooting trees, and destroying buildings in Lanka to demonstrate the power that would accompany Rama. Hanuman easily fights off demon guards and even kills Ravana's son, Akshay Kumar, in battle. He allows himself to be captured by Indrajit using the Brahmastra to gain an audience with Ravana, where he fearlessly delivers Rama’s message.\n",
      "\n",
      "Additionally, during his mission in Lanka, Hanuman uses his ability to alter his size, reducing himself to the size of a cat to search the city undetected. This showcases his power to change form at will, which helps him navigate through obstacles efficiently. His connection to the wind god Vayu is mentioned, indicating another aspect of his divine heritage.\n",
      "\n",
      "I don't have enough information to answer this question based on the provided content, as it does not explicitly list all of Hanuman's special powers.\n",
      "==================================================\n",
      "\n",
      "📝 Question 2: Why was Rama exiled from Ayodhya?\n",
      "--------------------------------------------------\n",
      "💬 Answer: Rama was exiled from Ayodhya because his stepmother Kaikeyi, influenced by her maid Manthara, reminded King Dasharatha of two boons he had promised her years ago. She demanded that her own son Bharata be crowned king instead of Rama, and that Rama be exiled to the forest for fourteen years. King Dasharatha was bound by his promise and agreed to her demands, despite being devastated by them. Rama, upon learning of his father's predicament, accepted the exile, valuing duty and the keeping of promises over personal desires.\n",
      "==================================================\n",
      "\n",
      "📝 Question 3: How did Rama and Sita first meet?\n",
      "--------------------------------------------------\n",
      "💬 Answer: Based on the provided content from the Ramayana, Rama and Sita first met during the swayamvara ceremony held in the kingdom of Mithila. Rama had accompanied the sage Vishwamitra to Mithila, where a condition for marrying Princess Sita was set: the suitor had to string and break the mighty bow of Lord Shiva. Rama, unlike other princes and kings, was able to lift the bow with ease, string it, and draw it so powerfully that it broke into two pieces. Sita, observing these events from behind a curtain, was overwhelmed by Rama's strength and noble demeanor. She chose him as her husband by placing the wedding garland around his neck.\n",
      "==================================================\n",
      "\n",
      "📝 Question 4: What happened during the battle between Rama and Ravana?\n",
      "--------------------------------------------------\n",
      "💬 Answer: During the battle between Rama and Ravana, both warriors demonstrated incredible skills and utilized divine weapons. Ravana, despite having ten heads and twenty arms, and his knowledge of divine weapons obtained through years of penance, was unable to defeat Rama. The turning point came when Rama invoked the Brahmastra, a powerful divine weapon given to him by the sage Agastya. This weapon pierced Ravana's heart, leading to his death. In his final moments, Ravana realized Rama's divine nature and found peace.\n",
      "==================================================\n",
      "\n",
      "🎉 RAG system testing complete!\n",
      "✓ You can now use ask_ramayana_question('your question') to ask about the Ramayana\n"
     ]
    }
   ],
   "source": [
    "# Test the RAG system with sample questions\n",
    "print(\"🧪 Testing Ramayana RAG System\")\n",
    "print(\"=\"*50)\n",
    "\n",
    "sample_questions = [\n",
    "    \"Who is Hanuman and what are his special powers?\",\n",
    "    \"Why was Rama exiled from Ayodhya?\",\n",
    "    \"How did Rama and Sita first meet?\",\n",
    "    \"What happened during the battle between Rama and Ravana?\",\n",
    "    \"Who helped Rama build the bridge to Lanka?\",\n",
    "    \"What are the main teachings of the Ramayana?\"\n",
    "]\n",
    "\n",
    "for i, question in enumerate(sample_questions[:4], 1):  # Test first 3 questions\n",
    "    print(f\"\\n📝 Question {i}: {question}\")\n",
    "    print(\"-\" * 50)\n",
    "    \n",
    "    answer = ask_ramayana_question(question)\n",
    "    print(f\"💬 Answer: {answer}\")\n",
    "    print(\"=\" * 50)\n",
    "\n",
    "print(\"\\n🎉 RAG system testing complete!\")\n",
    "print(\"✓ You can now use ask_ramayana_question('your question') to ask about the Ramayana\")"
   ]
  },
  {
   "cell_type": "code",
   "execution_count": 17,
   "metadata": {},
   "outputs": [
    {
     "name": "stdout",
     "output_type": "stream",
     "text": [
      "🎯 Interactive Ramayana Q&A Interface\n",
      "========================================\n",
      "Your Ramayana RAG system is ready!\n",
      "\n",
      "📖 Sample questions you can ask:\n",
      "• 'What powers does Hanuman have?'\n",
      "• 'How did Sita prove her purity?'\n",
      "• 'Why did Vibhishana join Rama?'\n",
      "• 'What happened to Ravana in the end?'\n",
      "• 'How was the bridge to Lanka built?'\n",
      "\n",
      "💡 Usage examples:\n",
      "   answer = ask_ramayana_question('Who is the main character of Ramayana?')\n",
      "   print(answer)\n",
      "\n",
      "🚀 Ready to answer your questions about the Ramayana!\n"
     ]
    }
   ],
   "source": [
    "# Interactive interface for asking questions\n",
    "print(\"🎯 Interactive Ramayana Q&A Interface\")\n",
    "print(\"=\"*40)\n",
    "print(\"Your Ramayana RAG system is ready!\")\n",
    "print()\n",
    "print(\"📖 Sample questions you can ask:\")\n",
    "print(\"• 'What powers does Hanuman have?'\")\n",
    "print(\"• 'How did Sita prove her purity?'\")\n",
    "print(\"• 'Why did Vibhishana join Rama?'\")\n",
    "print(\"• 'What happened to Ravana in the end?'\")\n",
    "print(\"• 'How was the bridge to Lanka built?'\")\n",
    "print()\n",
    "print(\"💡 Usage examples:\")\n",
    "print(\"   answer = ask_ramayana_question('Who is the main character of Ramayana?')\")\n",
    "print(\"   print(answer)\")\n",
    "print()\n",
    "print(\"🚀 Ready to answer your questions about the Ramayana!\")"
   ]
  },
  {
   "cell_type": "code",
   "execution_count": 18,
   "metadata": {},
   "outputs": [
    {
     "name": "stdout",
     "output_type": "stream",
     "text": [
      "🧪 Final System Test:\n",
      "==============================\n",
      "Question: Who is the main character of Ramayana?\n",
      "Answer: The main character of the Ramayana is Rama. The excerpts describe Rama as the ideal man and king, who is central to the epic's teachings about duty, honor, truthfulness, and righteousness. The narrative unfolds around his journey, his adherence to dharma, and his role as an incarnation of Lord Vishnu, who came to establish dharma and show humanity the way to liberation.\n",
      "==============================\n",
      "✅ System is working correctly!\n"
     ]
    }
   ],
   "source": [
    "# Quick test to verify the system works\n",
    "print(\"🧪 Final System Test:\")\n",
    "print(\"=\" * 30)\n",
    "test_answer = ask_ramayana_question(\"Who is the main character of Ramayana?\")\n",
    "print(\"Question: Who is the main character of Ramayana?\")\n",
    "print(f\"Answer: {test_answer}\")\n",
    "print(\"=\" * 30)\n",
    "print(\"✅ System is working correctly!\")"
   ]
  }
 ],
 "metadata": {
  "kernelspec": {
   "display_name": "venv (3.12.10)",
   "language": "python",
   "name": "python3"
  },
  "language_info": {
   "codemirror_mode": {
    "name": "ipython",
    "version": 3
   },
   "file_extension": ".py",
   "mimetype": "text/x-python",
   "name": "python",
   "nbconvert_exporter": "python",
   "pygments_lexer": "ipython3",
   "version": "3.12.10"
  },
  "orig_nbformat": 4
 },
 "nbformat": 4,
 "nbformat_minor": 2
}
